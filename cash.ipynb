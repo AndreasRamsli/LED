{
 "cells": [
  {
   "cell_type": "markdown",
   "metadata": {},
   "source": [
    "## Statistical analysis of electricity consumption\n",
    "\n",
    "Q: How much could be saved by using electricity during the cheapest time periods vs during the peak hours?\n",
    "\n",
    "Assumptions:\n",
    "- most of the consumption of the household is done during the cheapest times\n",
    "\n",
    "Need:\n",
    "- fetch the historic price information from the tibber api\n",
    "- Average household electricity consumption per day (inc. charging a Tesla Model 3 every other day)\n",
    "\n",
    "Estimate:\n",
    "- What is the cumulative price difference between consuming most of the electricity during cheap hours vs peak hours over a year?"
   ]
  },
  {
   "cell_type": "code",
   "execution_count": 22,
   "metadata": {},
   "outputs": [],
   "source": [
    "import sys\n",
    "sys.path.append('/Users/andreas/fun/useful_py_func/pyTibber/tibber/')\n",
    "#sys.path.append('/home/andram/fun/LED-env/lib/python3.11/site-packages/tibber')\n",
    "from tibber import Tibber, gql_queries\n",
    "from datetime import datetime, timedelta\n",
    "import matplotlib.pyplot as plt\n",
    "import asyncio\n",
    "import numpy as np\n"
   ]
  },
  {
   "cell_type": "code",
   "execution_count": 29,
   "metadata": {},
   "outputs": [
    {
     "name": "stderr",
     "output_type": "stream",
     "text": [
      "Unclosed client session\n",
      "client_session: <aiohttp.client.ClientSession object at 0x116a52840>\n",
      "Unclosed connector\n",
      "connections: ['[(<aiohttp.client_proto.ResponseHandler object at 0x11193f110>, 146536.412401916)]']\n",
      "connector: <aiohttp.connector.TCPConnector object at 0x116a53740>\n"
     ]
    },
    {
     "name": "stdout",
     "output_type": "stream",
     "text": [
      "Average daily potential savings: 18.56825897219829\n"
     ]
    }
   ],
   "source": [
    "from tibber import Tibber, gql_queries\n",
    "import matplotlib.pyplot as plt\n",
    "from datetime import datetime, timedelta\n",
    "import numpy as np\n",
    "\n",
    "#TODO: Think more about how to perform the statistical analysis on the consumption vs max/min price\n",
    "#What is the question I'm trying to answer?\n",
    "#If the consumption during the peak hours could be moved to the cheaper hours, how much could be saved?\n",
    "\n",
    "async def main():\n",
    "    TOKEN = \"U4L8yS_OHsfgKndAhNQZ8K-JYElbNUagYvToCF3ZPVE\"\n",
    "    USER_AGENT = \"LED_client\"\n",
    "    HOME_ID = \"975996b6-e7ca-4fbf-9f72-61e2df95bc0c\"\n",
    "\n",
    "    tibber_connection = Tibber(TOKEN, user_agent=USER_AGENT)\n",
    "    await tibber_connection.update_info()\n",
    "    \n",
    "    data = await fetch_data(tibber_connection, HOME_ID)\n",
    "\n",
    "    d = daily_data(data)\n",
    "    daily_savings = calculate_potential_savings(d)\n",
    "    print(f\"Average daily potential savings: {daily_savings}\")\n",
    "\n",
    "\n",
    "async def fetch_data(tibber_connection, home_id):\n",
    "    query = f\"\"\"{{\n",
    "      viewer {{\n",
    "        home(id: \"{home_id}\") {{\n",
    "          consumption(resolution: HOURLY, last: 8760, before: \"MjAyNC0wMi0yM1QxODowMDowMC4wMDArMDE6MDA=\") {{\n",
    "            pageInfo {{\n",
    "              startCursor\n",
    "            }}\n",
    "            nodes {{\n",
    "              from\n",
    "              cost\n",
    "              consumption\n",
    "            }}\n",
    "          }}\n",
    "        }}\n",
    "      }}\n",
    "    }}\"\"\"\n",
    "    data = await tibber_connection.execute(query)\n",
    "    return data\n",
    "\n",
    "\n",
    "def daily_data(data):\n",
    "    # Extract dates, costs, and consumptions\n",
    "    dates = [datetime.strptime(node['from'], '%Y-%m-%dT%H:%M:%S.%f%z') for node in data['viewer']['home']['consumption']['nodes']]\n",
    "    costs = [node['cost'] for node in data['viewer']['home']['consumption']['nodes']]\n",
    "    consumptions = [node['consumption'] for node in data['viewer']['home']['consumption']['nodes']]\n",
    "    \n",
    "    # Group by day\n",
    "    daily_data = {}\n",
    "    for date, cost, consumption in zip(dates, costs, consumptions):\n",
    "        day = date.strftime('%Y-%m-%d')\n",
    "        if day not in daily_data:\n",
    "            daily_data[day] = []\n",
    "        daily_data[day].append((cost, consumption))\n",
    "    \n",
    "    return daily_data\n",
    "\n",
    "def calculate_potential_savings(daily_data):\n",
    "    total_savings = []\n",
    "\n",
    "    for day, data in daily_data.items():\n",
    "        prices, consumptions = zip(*data)\n",
    "        average_price = np.mean(prices)\n",
    "        peak_price_threshold = average_price * 1.10\n",
    "        cheap_price_threshold = average_price\n",
    "\n",
    "        peak_hours_consumption = sum(consumption for price, consumption in data if price > peak_price_threshold)\n",
    "        cheap_hour_price = min(prices)\n",
    "\n",
    "        # Assume all peak consumption can be shifted to the cheapest hour of the day\n",
    "        daily_saving = (peak_price_threshold - cheap_hour_price) * peak_hours_consumption\n",
    "        total_savings.append(daily_saving)\n",
    "\n",
    "    return np.mean(total_savings)\n",
    "\n",
    "\n",
    "await main()"
   ]
  },
  {
   "cell_type": "code",
   "execution_count": null,
   "metadata": {},
   "outputs": [],
   "source": []
  },
  {
   "cell_type": "code",
   "execution_count": null,
   "metadata": {},
   "outputs": [],
   "source": []
  },
  {
   "cell_type": "code",
   "execution_count": null,
   "metadata": {},
   "outputs": [],
   "source": []
  },
  {
   "cell_type": "code",
   "execution_count": null,
   "metadata": {},
   "outputs": [],
   "source": []
  },
  {
   "cell_type": "code",
   "execution_count": null,
   "metadata": {},
   "outputs": [],
   "source": []
  },
  {
   "cell_type": "code",
   "execution_count": null,
   "metadata": {},
   "outputs": [],
   "source": []
  },
  {
   "cell_type": "code",
   "execution_count": null,
   "metadata": {},
   "outputs": [],
   "source": []
  },
  {
   "cell_type": "code",
   "execution_count": null,
   "metadata": {},
   "outputs": [],
   "source": []
  }
 ],
 "metadata": {
  "kernelspec": {
   "display_name": "pyTibber",
   "language": "python",
   "name": "python3"
  },
  "language_info": {
   "codemirror_mode": {
    "name": "ipython",
    "version": 3
   },
   "file_extension": ".py",
   "mimetype": "text/x-python",
   "name": "python",
   "nbconvert_exporter": "python",
   "pygments_lexer": "ipython3",
   "version": "3.12.1"
  }
 },
 "nbformat": 4,
 "nbformat_minor": 2
}
