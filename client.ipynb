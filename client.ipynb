{
 "cells": [
  {
   "cell_type": "code",
   "execution_count": 26,
   "id": "d1d34f74-39c0-4ad2-84c7-4ac342216d1f",
   "metadata": {},
   "outputs": [
    {
     "data": {
      "text/plain": [
       "<module 'pyTibber.tibber.response_handler' from '/Users/andreas/fun/LED/pyTibber/tibber/response_handler.py'>"
      ]
     },
     "execution_count": 26,
     "metadata": {},
     "output_type": "execute_result"
    }
   ],
   "source": [
    "import sys\n",
    "sys.path.append('/Users/andreas/fun/LED/pyTibber')\n",
    "from pyTibber import tibber\n"
   ]
  },
  {
   "cell_type": "code",
   "execution_count": 24,
   "id": "06d94246",
   "metadata": {},
   "outputs": [],
   "source": [
    "async def main():\n",
    "    # Replace with your actual Tibber API token\n",
    "    TOKEN = \"U4L8yS_OHsfgKndAhNQZ8K-JYElbNUagYvToCF3ZPVE\"\n",
    "    try:\n",
    "        # Initialize Tibber connection\n",
    "        tibber_connection = Tibber(access_token=TOKEN)\n",
    "        await tibber_connection.update_info()\n",
    "\n",
    "        # Retrieve the websocketSubscriptionUrl\n",
    "        if tibber_connection.realtime.sub_endpoint:\n",
    "            print(\"WebSocket Subscription URL:\", tibber_connection.realtime.sub_endpoint)\n",
    "\n",
    "        # Get hourly PriceRating and PriceLevel for each active home\n",
    "        for home_id in tibber_connection.get_home_ids(only_active=True):\n",
    "            home = tibber_connection.get_home(home_id)\n",
    "            if home is not None:\n",
    "                await home.update_price_info()\n",
    "                if home.current_price_info:\n",
    "                    price_info = home.current_price_info\n",
    "                    print(f\"Home ID: {home_id}\")\n",
    "                    print(f\"Hourly PriceRating: {price_info['total']}\")\n",
    "                    print(f\"PriceLevel: {price_info['priceLevel']}\")\n",
    "                    \n",
    "        # Closing the connection\n",
    "        await tibber_connection.close_connection()\n",
    "    except Exception as e:\n",
    "        print(f\"An error occurred: {e}\")\n",
    "\n",
    "    if __name__ == \"__main__\":\n",
    "        loop = asyncio.get_event_loop()\n",
    "        loop.run_until_complete(main())\n",
    "        \n"
   ]
  },
  {
   "cell_type": "code",
   "execution_count": 25,
   "id": "c46fde0f-1a72-45ad-912c-0b36d4725efe",
   "metadata": {},
   "outputs": [
    {
     "ename": "ImportError",
     "evalue": "cannot import name 'Tibber' from 'pyTibber' (unknown location)",
     "output_type": "error",
     "traceback": [
      "\u001b[0;31m---------------------------------------------------------------------------\u001b[0m",
      "\u001b[0;31mImportError\u001b[0m                               Traceback (most recent call last)",
      "Cell \u001b[0;32mIn[25], line 2\u001b[0m\n\u001b[1;32m      1\u001b[0m \u001b[38;5;28;01mimport\u001b[39;00m \u001b[38;5;21;01masyncio\u001b[39;00m\n\u001b[0;32m----> 2\u001b[0m \u001b[38;5;28;01mfrom\u001b[39;00m \u001b[38;5;21;01mpyTibber\u001b[39;00m \u001b[38;5;28;01mimport\u001b[39;00m Tibber\n\u001b[1;32m      4\u001b[0m \u001b[38;5;28;01masync\u001b[39;00m \u001b[38;5;28;01mdef\u001b[39;00m \u001b[38;5;21mmain\u001b[39m():\n\u001b[1;32m      5\u001b[0m     TOKEN \u001b[38;5;241m=\u001b[39m \u001b[38;5;124m\"\u001b[39m\u001b[38;5;124mU4L8yS_OHsfgKndAhNQZ8K-JYElbNUagYvToCF3ZPVE\u001b[39m\u001b[38;5;124m\"\u001b[39m  \u001b[38;5;66;03m# Replace with your actual Tibber API token\u001b[39;00m\n",
      "\u001b[0;31mImportError\u001b[0m: cannot import name 'Tibber' from 'pyTibber' (unknown location)"
     ]
    }
   ],
   "source": [
    "import asyncio\n",
    "from pyTibber import Tibber\n",
    "\n",
    "async def main():\n",
    "    TOKEN = \"U4L8yS_OHsfgKndAhNQZ8K-JYElbNUagYvToCF3ZPVE\"  # Replace with your actual Tibber API token\n",
    "\n",
    "    tibber_connection = Tibber(access_token=TOKEN)\n",
    "    await tibber_connection.update_info()\n",
    "\n",
    "    for home_id in tibber_connection.get_home_ids(only_active=False):\n",
    "        home = tibber_connection.get_home(home_id)\n",
    "        if home is not None:\n",
    "            await home.update_info()\n",
    "            print(f\"Home ID: {home.home_id}\")\n",
    "            print(f\"Address: {home.address1}\")\n",
    "            print(f\"Owner's Name: {home.owner_name}\")\n",
    "            print(f\"Current Power Usage: {home.current_power_usage}\")\n",
    "            # Add more attributes as needed\n",
    "\n",
    "    await tibber_connection.close_connection()\n",
    "\n",
    "if __name__ == \"__main__\":\n",
    "    loop = asyncio.get_event_loop()\n",
    "    loop.run_until_complete(main())\n"
   ]
  },
  {
   "cell_type": "code",
   "execution_count": null,
   "id": "0c1ffb44",
   "metadata": {},
   "outputs": [],
   "source": []
  }
 ],
 "metadata": {
  "kernelspec": {
   "display_name": "pyTibber",
   "language": "python",
   "name": "python3"
  },
  "language_info": {
   "codemirror_mode": {
    "name": "ipython",
    "version": 3
   },
   "file_extension": ".py",
   "mimetype": "text/x-python",
   "name": "python",
   "nbconvert_exporter": "python",
   "pygments_lexer": "ipython3",
   "version": "3.12.1"
  }
 },
 "nbformat": 4,
 "nbformat_minor": 5
}
