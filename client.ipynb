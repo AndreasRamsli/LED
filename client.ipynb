{
 "cells": [
  {
   "cell_type": "code",
   "execution_count": 1,
   "id": "d1d34f74-39c0-4ad2-84c7-4ac342216d1f",
   "metadata": {},
   "outputs": [],
   "source": [
    "import sys\n",
    "sys.path.append('/Users/andreas/fun/LED/pyTibber')\n",
    "from pyTibber import tibber\n"
   ]
  },
  {
   "cell_type": "code",
   "execution_count": 3,
   "id": "06d94246",
   "metadata": {},
   "outputs": [],
   "source": [
    "async def main():\n",
    "    # Replace with your actual Tibber API token\n",
    "    TOKEN = \"U4L8yS_OHsfgKndAhNQZ8K-JYElbNUagYvToCF3ZPVE\"\n",
    "    try:\n",
    "        # Initialize Tibber connection\n",
    "        tibber_connection = tibber.Tibber(access_token=TOKEN)\n",
    "        await tibber_connection.update_info()\n",
    "\n",
    "        # Retrieve the websocketSubscriptionUrl\n",
    "        if tibber_connection.realtime.sub_endpoint:\n",
    "            print(\"WebSocket Subscription URL:\", tibber_connection.realtime.sub_endpoint)\n",
    "\n",
    "        # Get hourly PriceRating and PriceLevel for each active home\n",
    "        for home_id in tibber_connection.get_home_ids(only_active=True):\n",
    "            home = tibber_connection.get_home(home_id)\n",
    "            if home is not None:\n",
    "                await home.update_price_info()\n",
    "                if home.current_price_info:\n",
    "                    price_info = home.current_price_info\n",
    "                    print(f\"Home ID: {home_id}\")\n",
    "                    print(f\"Hourly PriceRating: {price_info['total']}\")\n",
    "                    print(f\"PriceLevel: {price_info['priceLevel']}\")\n",
    "                    \n",
    "        # Closing the connection\n",
    "        await tibber_connection.close_connection()\n",
    "    except Exception as e:\n",
    "        print(f\"An error occurred: {e}\")\n",
    "\n",
    "    if __name__ == \"__main__\":\n",
    "        loop = asyncio.get_event_loop()\n",
    "        loop.run_until_complete(main())\n",
    "        \n"
   ]
  },
  {
   "cell_type": "code",
   "execution_count": 13,
   "id": "c46fde0f-1a72-45ad-912c-0b36d4725efe",
   "metadata": {},
   "outputs": [
    {
     "name": "stdout",
     "output_type": "stream",
     "text": [
      "Home ID: f65b179b-f74f-492c-9ea8-db1e1461856a\n",
      "Address: Helmers vei 10, LAKSEVÅG\n",
      "Owner's Name: Erlend Thue\n",
      "\n",
      "Home ID: 975996b6-e7ca-4fbf-9f72-61e2df95bc0c\n",
      "Address: Løbergsalleen 16, BERGEN\n",
      "Owner's Name: Erlend Thue\n",
      "Current Power Price: 1.2303\n",
      "Price Level: CHEAP\n",
      "\n"
     ]
    }
   ],
   "source": [
    "import asyncio\n",
    "#from pyTibber import Tibber\n",
    "async def main():\n",
    "    TOKEN = \"U4L8yS_OHsfgKndAhNQZ8K-JYElbNUagYvToCF3ZPVE\"\n",
    "    USER_AGENT = \"LED_client\"\n",
    "    tibber_connection = tibber.Tibber(access_token=TOKEN,user_agent=USER_AGENT)\n",
    "    await tibber_connection.update_info()\n",
    "\n",
    "    # GraphQL query to fetch home information\n",
    "    query = '''\n",
    "    {\n",
    "      viewer {\n",
    "        homes {\n",
    "          id\n",
    "          address {\n",
    "            address1\n",
    "            city\n",
    "          }\n",
    "          owner {\n",
    "            name\n",
    "          }\n",
    "          currentSubscription {\n",
    "            priceInfo {\n",
    "              current {\n",
    "                total\n",
    "                level\n",
    "              }\n",
    "            }\n",
    "          }\n",
    "        }\n",
    "      }\n",
    "    }\n",
    "    '''\n",
    "\n",
    "    data = await tibber_connection.execute(query)\n",
    "    if data:\n",
    "        homes = data['viewer']['homes']\n",
    "        for home in homes:\n",
    "            print(f\"Home ID: {home['id']}\")\n",
    "            print(f\"Address: {home['address']['address1']}, {home['address']['city']}\")\n",
    "            print(f\"Owner's Name: {home['owner']['name']}\")\n",
    "\n",
    "            # Check if currentSubscription and priceInfo are not None\n",
    "            if home.get('currentSubscription') and home['currentSubscription'].get('priceInfo'):\n",
    "                current_price_info = home['currentSubscription']['priceInfo'].get('current')\n",
    "                if current_price_info:\n",
    "                    print(f\"Current Power Price: {current_price_info['total']}\")\n",
    "                    print(f\"Price Level: {current_price_info['level']}\")\n",
    "            print()\n",
    "\n",
    "    await tibber_connection.close_connection()\n",
    "await main()\n"
   ]
  },
  {
   "cell_type": "code",
   "execution_count": 7,
   "id": "0c1ffb44",
   "metadata": {},
   "outputs": [
    {
     "ename": "RuntimeError",
     "evalue": "This event loop is already running",
     "output_type": "error",
     "traceback": [
      "\u001b[0;31m---------------------------------------------------------------------------\u001b[0m",
      "\u001b[0;31mRuntimeError\u001b[0m                              Traceback (most recent call last)",
      "Cell \u001b[0;32mIn[7], line 2\u001b[0m\n\u001b[1;32m      1\u001b[0m loop \u001b[38;5;241m=\u001b[39m asyncio\u001b[38;5;241m.\u001b[39mget_event_loop()\n\u001b[0;32m----> 2\u001b[0m \u001b[43mloop\u001b[49m\u001b[38;5;241;43m.\u001b[39;49m\u001b[43mrun_until_complete\u001b[49m\u001b[43m(\u001b[49m\u001b[43mmain\u001b[49m\u001b[43m(\u001b[49m\u001b[43m)\u001b[49m\u001b[43m)\u001b[49m\n",
      "File \u001b[0;32m~/miniconda3/envs/pyTibber/lib/python3.12/asyncio/base_events.py:660\u001b[0m, in \u001b[0;36mBaseEventLoop.run_until_complete\u001b[0;34m(self, future)\u001b[0m\n\u001b[1;32m    649\u001b[0m \u001b[38;5;250m\u001b[39m\u001b[38;5;124;03m\"\"\"Run until the Future is done.\u001b[39;00m\n\u001b[1;32m    650\u001b[0m \n\u001b[1;32m    651\u001b[0m \u001b[38;5;124;03mIf the argument is a coroutine, it is wrapped in a Task.\u001b[39;00m\n\u001b[0;32m   (...)\u001b[0m\n\u001b[1;32m    657\u001b[0m \u001b[38;5;124;03mReturn the Future's result, or raise its exception.\u001b[39;00m\n\u001b[1;32m    658\u001b[0m \u001b[38;5;124;03m\"\"\"\u001b[39;00m\n\u001b[1;32m    659\u001b[0m \u001b[38;5;28mself\u001b[39m\u001b[38;5;241m.\u001b[39m_check_closed()\n\u001b[0;32m--> 660\u001b[0m \u001b[38;5;28;43mself\u001b[39;49m\u001b[38;5;241;43m.\u001b[39;49m\u001b[43m_check_running\u001b[49m\u001b[43m(\u001b[49m\u001b[43m)\u001b[49m\n\u001b[1;32m    662\u001b[0m new_task \u001b[38;5;241m=\u001b[39m \u001b[38;5;129;01mnot\u001b[39;00m futures\u001b[38;5;241m.\u001b[39misfuture(future)\n\u001b[1;32m    663\u001b[0m future \u001b[38;5;241m=\u001b[39m tasks\u001b[38;5;241m.\u001b[39mensure_future(future, loop\u001b[38;5;241m=\u001b[39m\u001b[38;5;28mself\u001b[39m)\n",
      "File \u001b[0;32m~/miniconda3/envs/pyTibber/lib/python3.12/asyncio/base_events.py:619\u001b[0m, in \u001b[0;36mBaseEventLoop._check_running\u001b[0;34m(self)\u001b[0m\n\u001b[1;32m    617\u001b[0m \u001b[38;5;28;01mdef\u001b[39;00m \u001b[38;5;21m_check_running\u001b[39m(\u001b[38;5;28mself\u001b[39m):\n\u001b[1;32m    618\u001b[0m     \u001b[38;5;28;01mif\u001b[39;00m \u001b[38;5;28mself\u001b[39m\u001b[38;5;241m.\u001b[39mis_running():\n\u001b[0;32m--> 619\u001b[0m         \u001b[38;5;28;01mraise\u001b[39;00m \u001b[38;5;167;01mRuntimeError\u001b[39;00m(\u001b[38;5;124m'\u001b[39m\u001b[38;5;124mThis event loop is already running\u001b[39m\u001b[38;5;124m'\u001b[39m)\n\u001b[1;32m    620\u001b[0m     \u001b[38;5;28;01mif\u001b[39;00m events\u001b[38;5;241m.\u001b[39m_get_running_loop() \u001b[38;5;129;01mis\u001b[39;00m \u001b[38;5;129;01mnot\u001b[39;00m \u001b[38;5;28;01mNone\u001b[39;00m:\n\u001b[1;32m    621\u001b[0m         \u001b[38;5;28;01mraise\u001b[39;00m \u001b[38;5;167;01mRuntimeError\u001b[39;00m(\n\u001b[1;32m    622\u001b[0m             \u001b[38;5;124m'\u001b[39m\u001b[38;5;124mCannot run the event loop while another loop is running\u001b[39m\u001b[38;5;124m'\u001b[39m)\n",
      "\u001b[0;31mRuntimeError\u001b[0m: This event loop is already running"
     ]
    }
   ],
   "source": [
    "\n",
    "loop = asyncio.get_event_loop()\n",
    "loop.run_until_complete(main())\n"
   ]
  }
 ],
 "metadata": {
  "kernelspec": {
   "display_name": "pyTibber",
   "language": "python",
   "name": "python3"
  },
  "language_info": {
   "codemirror_mode": {
    "name": "ipython",
    "version": 3
   },
   "file_extension": ".py",
   "mimetype": "text/x-python",
   "name": "python",
   "nbconvert_exporter": "python",
   "pygments_lexer": "ipython3",
   "version": "3.12.1"
  }
 },
 "nbformat": 4,
 "nbformat_minor": 5
}
