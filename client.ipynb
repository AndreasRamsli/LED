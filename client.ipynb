{
 "cells": [
  {
   "cell_type": "code",
   "execution_count": 4,
   "id": "d1d34f74-39c0-4ad2-84c7-4ac342216d1f",
   "metadata": {},
   "outputs": [],
   "source": [
    "import sys\n",
    "import asyncio\n",
    "#sys.path.append('/Users/andreas/fun/LED/pyTibber')\n",
    "sys.path.append('/home/andram/fun/LED-env/lib/python3.11/site-packages/tibber')\n",
    "from tibber import Tibber\n"
   ]
  },
  {
   "cell_type": "code",
   "execution_count": 11,
   "id": "c46fde0f-1a72-45ad-912c-0b36d4725efe",
   "metadata": {},
   "outputs": [
    {
     "name": "stdout",
     "output_type": "stream",
     "text": [
      "Home ID: f65b179b-f74f-492c-9ea8-db1e1461856a\n",
      "Address: Helmers vei 10, LAKSEVÅG\n",
      "Owner's Name: Erlend Thue\n",
      "\n",
      "Home ID: 975996b6-e7ca-4fbf-9f72-61e2df95bc0c\n",
      "Address: Løbergsalleen 16, BERGEN\n",
      "Owner's Name: Erlend Thue\n",
      "Current Power Price: 0.8826\n",
      "Price Level: CHEAP\n",
      "\n"
     ]
    }
   ],
   "source": [
    "async def main():\n",
    "    TOKEN = \"U4L8yS_OHsfgKndAhNQZ8K-JYElbNUagYvToCF3ZPVE\"\n",
    "    USER_AGENT = \"LED_client\"\n",
    "    tibber_connection = Tibber(access_token=TOKEN,user_agent=USER_AGENT)\n",
    "    await tibber_connection.update_info()\n",
    "\n",
    "    # GraphQL query to fetch home information\n",
    "    query = '''\n",
    "    {\n",
    "      viewer {\n",
    "        homes {\n",
    "          id\n",
    "          address {\n",
    "            address1\n",
    "            city\n",
    "          }\n",
    "          owner {\n",
    "            name\n",
    "          }\n",
    "          currentSubscription {\n",
    "            priceInfo {\n",
    "              current {\n",
    "                total\n",
    "                level\n",
    "              }\n",
    "            }\n",
    "          }\n",
    "        }\n",
    "      }\n",
    "    }\n",
    "    '''\n",
    "\n",
    "    data = await tibber_connection.execute(query)\n",
    "    if data:\n",
    "        homes = data['viewer']['homes']\n",
    "        for home in homes:\n",
    "            print(f\"Home ID: {home['id']}\")\n",
    "            print(f\"Address: {home['address']['address1']}, {home['address']['city']}\")\n",
    "            print(f\"Owner's Name: {home['owner']['name']}\")\n",
    "\n",
    "            # Check if currentSubscription and priceInfo are not None\n",
    "            if home.get('currentSubscription') and home['currentSubscription'].get('priceInfo'):\n",
    "                current_price_info = home['currentSubscription']['priceInfo'].get('current')\n",
    "                if current_price_info:\n",
    "                    print(f\"Current Power Price: {current_price_info['total']}\")\n",
    "                    print(f\"Price Level: {current_price_info['level']}\")\n",
    "            print()\n",
    "\n",
    "    await tibber_connection.close_connection()\n",
    "await main()"
   ]
  },
  {
   "cell_type": "code",
   "execution_count": 23,
   "id": "0c1ffb44",
   "metadata": {},
   "outputs": [
    {
     "name": "stdout",
     "output_type": "stream",
     "text": [
      "WebSocket URL: wss://websocket-api.tibber.com/v1-beta/gql/subscriptions\n"
     ]
    }
   ],
   "source": [
    "import aiohttp\n",
    "import asyncio\n",
    "import json\n",
    "\n",
    "async def fetch_websocket_url(token):\n",
    "    graphql_endpoint = \"https://api.tibber.com/v1-beta/gql\"\n",
    "    query = {\n",
    "        \"query\": \"{ viewer { websocketSubscriptionUrl } }\"\n",
    "    }\n",
    "    headers = {\n",
    "        \"Authorization\": f\"Bearer {token}\",\n",
    "        \"Content-Type\": \"application/json\"\n",
    "    }\n",
    "\n",
    "    async with aiohttp.ClientSession() as session:\n",
    "        async with session.post(graphql_endpoint, headers=headers, json=query) as response:\n",
    "            if response.status == 200:\n",
    "                data = await response.json()\n",
    "                return data[\"data\"][\"viewer\"][\"websocketSubscriptionUrl\"]\n",
    "            else:\n",
    "                raise Exception(\"Failed to fetch WebSocket URL\")\n",
    "\n",
    "# Use this function to get the WebSocket URL\n",
    "TOKEN = \"U4L8yS_OHsfgKndAhNQZ8K-JYElbNUagYvToCF3ZPVE\"\n",
    "websocket_url = await fetch_websocket_url(TOKEN)\n",
    "print(\"WebSocket URL:\", websocket_url)\n"
   ]
  },
  {
   "cell_type": "code",
   "execution_count": 26,
   "id": "9639d0d3",
   "metadata": {},
   "outputs": [
    {
     "name": "stderr",
     "output_type": "stream",
     "text": [
      "Unclosed client session\n",
      "client_session: <aiohttp.client.ClientSession object at 0x7f70fff750>\n"
     ]
    },
    {
     "ename": "TypeError",
     "evalue": "'Tibber' object does not support the asynchronous context manager protocol",
     "output_type": "error",
     "traceback": [
      "\u001b[0;31m---------------------------------------------------------------------------\u001b[0m",
      "\u001b[0;31mTypeError\u001b[0m                                 Traceback (most recent call last)",
      "\u001b[1;32m/home/andram/fun/LED/client.ipynb Cell 4\u001b[0m line \u001b[0;36m2\n\u001b[1;32m     <a href='vscode-notebook-cell:/home/andram/fun/LED/client.ipynb#X10sZmlsZQ%3D%3D?line=16'>17</a>\u001b[0m         \u001b[39mwhile\u001b[39;00m \u001b[39mTrue\u001b[39;00m:\n\u001b[1;32m     <a href='vscode-notebook-cell:/home/andram/fun/LED/client.ipynb#X10sZmlsZQ%3D%3D?line=17'>18</a>\u001b[0m             \u001b[39mawait\u001b[39;00m asyncio\u001b[39m.\u001b[39msleep(\u001b[39m10\u001b[39m)\n\u001b[0;32m---> <a href='vscode-notebook-cell:/home/andram/fun/LED/client.ipynb#X10sZmlsZQ%3D%3D?line=19'>20</a>\u001b[0m \u001b[39mawait\u001b[39;00m run()\n",
      "\u001b[1;32m/home/andram/fun/LED/client.ipynb Cell 4\u001b[0m line \u001b[0;36m9\n\u001b[1;32m      <a href='vscode-notebook-cell:/home/andram/fun/LED/client.ipynb#X10sZmlsZQ%3D%3D?line=7'>8</a>\u001b[0m \u001b[39masync\u001b[39;00m \u001b[39mdef\u001b[39;00m \u001b[39mrun\u001b[39m():\n\u001b[0;32m----> <a href='vscode-notebook-cell:/home/andram/fun/LED/client.ipynb#X10sZmlsZQ%3D%3D?line=8'>9</a>\u001b[0m     \u001b[39masync\u001b[39;00m \u001b[39mwith\u001b[39;00m Tibber(TOKEN, user_agent\u001b[39m=\u001b[39m\u001b[39m\"\u001b[39m\u001b[39mAncreas Ramsli\u001b[39m\u001b[39m\"\u001b[39m) \u001b[39mas\u001b[39;00m tibber_connection:\n\u001b[1;32m     <a href='vscode-notebook-cell:/home/andram/fun/LED/client.ipynb#X10sZmlsZQ%3D%3D?line=9'>10</a>\u001b[0m         \u001b[39mawait\u001b[39;00m tibber_connection\u001b[39m.\u001b[39mupdate_info()\n\u001b[1;32m     <a href='vscode-notebook-cell:/home/andram/fun/LED/client.ipynb#X10sZmlsZQ%3D%3D?line=10'>11</a>\u001b[0m         home \u001b[39m=\u001b[39m tibber_connection\u001b[39m.\u001b[39mget_homes()[\u001b[39m0\u001b[39m]\n",
      "\u001b[0;31mTypeError\u001b[0m: 'Tibber' object does not support the asynchronous context manager protocol"
     ]
    }
   ],
   "source": [
    "\n",
    "TOKEN = \"U4L8yS_OHsfgKndAhNQZ8K-JYElbNUagYvToCF3ZPVE\" # Replace with your actual Tibber access token\n",
    "\n",
    "def data_callback(data):\n",
    "    print(\"Real-time data received:\", data)\n",
    "    # Process the real-time data here\n",
    "    # Example: Update global variables or trigger actions\n",
    "\n",
    "async def run():\n",
    "    async with Tibber(TOKEN, user_agent=\"Ancreas Ramsli\") as tibber_connection:\n",
    "        await tibber_connection.update_info()\n",
    "        home = tibber_connection.get_homes()[0]\n",
    "        \n",
    "        # Subscribe to real-time updates\n",
    "        await home.rt_subscribe(data_callback)\n",
    "\n",
    "        # Keep the connection open\n",
    "        while True:\n",
    "            await asyncio.sleep(10)\n",
    "\n",
    "await run()\n"
   ]
  },
  {
   "cell_type": "code",
   "execution_count": 16,
   "id": "64bd5e39",
   "metadata": {},
   "outputs": [
    {
     "data": {
      "text/plain": [
       "<coroutine object main at 0x7f70280c80>"
      ]
     },
     "execution_count": 16,
     "metadata": {},
     "output_type": "execute_result"
    }
   ],
   "source": [
    "import asyncio\n",
    "import websockets\n",
    "import json\n",
    "\n",
    "# Global variable for Price Level\n",
    "global_price_level = None\n",
    "\n",
    "async def listen_for_price_changes(uri, token):\n",
    "    global global_price_level\n",
    "\n",
    "    async with websockets.connect(uri) as websocket:\n",
    "        # Authenticate\n",
    "        await websocket.send(json.dumps({\n",
    "            \"type\": \"connection_init\",\n",
    "            \"payload\": {\"Authorization\": f\"Bearer {token}\"}\n",
    "        }))\n",
    "        await websocket.recv()  # Wait for acknowledgement\n",
    "\n",
    "        # Subscribe to price level updates\n",
    "        query = '''\n",
    "        subscription {\n",
    "          liveMeasurement(homeId: \"YOUR_HOME_ID\") {\n",
    "            timestamp\n",
    "            level\n",
    "          }\n",
    "        }\n",
    "        '''\n",
    "        await websocket.send(json.dumps({\"id\": \"1\", \"type\": \"start\", \"payload\": {\"query\": query}}))\n",
    "\n",
    "        # Listen for messages\n",
    "        while True:\n",
    "            response = await websocket.recv()\n",
    "            data = json.loads(response)\n",
    "            if data.get(\"type\") == \"data\":\n",
    "                new_price_level = data[\"payload\"][\"data\"][\"liveMeasurement\"][\"level\"]\n",
    "                if new_price_level != global_price_level:\n",
    "                    global_price_level = new_price_level\n",
    "                    print(f\"Price Level Updated: {global_price_level}\")\n",
    "                    # Here you can add additional logic to communicate with external systems\n",
    "\n",
    "async def main():\n",
    "    TOKEN = \"U4L8yS_OHsfgKndAhNQZ8K-JYElbNUagYvToCF3ZPVE\"\n",
    "    WEBSOCKET_URL = \"wss://api.tibber.com/v1-beta/gql/subscriptions\"  # Replace with the actual WebSocket URL from Tibber\n",
    "\n",
    "    # Start listening for price changes\n",
    "    await listen_for_price_changes(WEBSOCKET_URL, TOKEN)\n",
    "\n",
    "main()\n"
   ]
  },
  {
   "cell_type": "code",
   "execution_count": null,
   "id": "7a582c10",
   "metadata": {},
   "outputs": [],
   "source": []
  }
 ],
 "metadata": {
  "kernelspec": {
   "display_name": "pyTibber",
   "language": "python",
   "name": "python3"
  },
  "language_info": {
   "codemirror_mode": {
    "name": "ipython",
    "version": 3
   },
   "file_extension": ".py",
   "mimetype": "text/x-python",
   "name": "python",
   "nbconvert_exporter": "python",
   "pygments_lexer": "ipython3",
   "version": "3.11.2"
  }
 },
 "nbformat": 4,
 "nbformat_minor": 5
}
